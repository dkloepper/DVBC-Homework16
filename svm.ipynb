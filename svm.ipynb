{
 "cells": [
  {
   "cell_type": "code",
   "execution_count": null,
   "metadata": {},
   "outputs": [],
   "source": [
    "#David Kloepper\n",
    "#Data Visualization Bootcamp, Cohort 3\n",
    "#July 27th, 2019"
   ]
  },
  {
   "cell_type": "code",
   "execution_count": 1,
   "metadata": {},
   "outputs": [],
   "source": [
    "import pandas as pd"
   ]
  },
  {
   "cell_type": "markdown",
   "metadata": {},
   "source": [
    "# Read the CSV and Perform Basic Data Cleaning"
   ]
  },
  {
   "cell_type": "code",
   "execution_count": 2,
   "metadata": {},
   "outputs": [
    {
     "data": {
      "text/html": [
       "<div>\n",
       "<style scoped>\n",
       "    .dataframe tbody tr th:only-of-type {\n",
       "        vertical-align: middle;\n",
       "    }\n",
       "\n",
       "    .dataframe tbody tr th {\n",
       "        vertical-align: top;\n",
       "    }\n",
       "\n",
       "    .dataframe thead th {\n",
       "        text-align: right;\n",
       "    }\n",
       "</style>\n",
       "<table border=\"1\" class=\"dataframe\">\n",
       "  <thead>\n",
       "    <tr style=\"text-align: right;\">\n",
       "      <th></th>\n",
       "      <th>koi_disposition</th>\n",
       "      <th>koi_fpflag_nt</th>\n",
       "      <th>koi_fpflag_ss</th>\n",
       "      <th>koi_fpflag_co</th>\n",
       "      <th>koi_fpflag_ec</th>\n",
       "      <th>koi_period</th>\n",
       "      <th>koi_period_err1</th>\n",
       "      <th>koi_period_err2</th>\n",
       "      <th>koi_time0bk</th>\n",
       "      <th>koi_time0bk_err1</th>\n",
       "      <th>...</th>\n",
       "      <th>koi_steff_err2</th>\n",
       "      <th>koi_slogg</th>\n",
       "      <th>koi_slogg_err1</th>\n",
       "      <th>koi_slogg_err2</th>\n",
       "      <th>koi_srad</th>\n",
       "      <th>koi_srad_err1</th>\n",
       "      <th>koi_srad_err2</th>\n",
       "      <th>ra</th>\n",
       "      <th>dec</th>\n",
       "      <th>koi_kepmag</th>\n",
       "    </tr>\n",
       "  </thead>\n",
       "  <tbody>\n",
       "    <tr>\n",
       "      <th>0</th>\n",
       "      <td>CONFIRMED</td>\n",
       "      <td>0</td>\n",
       "      <td>0</td>\n",
       "      <td>0</td>\n",
       "      <td>0</td>\n",
       "      <td>9.488036</td>\n",
       "      <td>2.775000e-05</td>\n",
       "      <td>-2.775000e-05</td>\n",
       "      <td>170.538750</td>\n",
       "      <td>0.002160</td>\n",
       "      <td>...</td>\n",
       "      <td>-81.0</td>\n",
       "      <td>4.467</td>\n",
       "      <td>0.064</td>\n",
       "      <td>-0.096</td>\n",
       "      <td>0.927</td>\n",
       "      <td>0.105</td>\n",
       "      <td>-0.061</td>\n",
       "      <td>291.93423</td>\n",
       "      <td>48.141651</td>\n",
       "      <td>15.347</td>\n",
       "    </tr>\n",
       "    <tr>\n",
       "      <th>1</th>\n",
       "      <td>CONFIRMED</td>\n",
       "      <td>0</td>\n",
       "      <td>0</td>\n",
       "      <td>0</td>\n",
       "      <td>0</td>\n",
       "      <td>54.418383</td>\n",
       "      <td>2.479000e-04</td>\n",
       "      <td>-2.479000e-04</td>\n",
       "      <td>162.513840</td>\n",
       "      <td>0.003520</td>\n",
       "      <td>...</td>\n",
       "      <td>-81.0</td>\n",
       "      <td>4.467</td>\n",
       "      <td>0.064</td>\n",
       "      <td>-0.096</td>\n",
       "      <td>0.927</td>\n",
       "      <td>0.105</td>\n",
       "      <td>-0.061</td>\n",
       "      <td>291.93423</td>\n",
       "      <td>48.141651</td>\n",
       "      <td>15.347</td>\n",
       "    </tr>\n",
       "    <tr>\n",
       "      <th>2</th>\n",
       "      <td>FALSE POSITIVE</td>\n",
       "      <td>0</td>\n",
       "      <td>1</td>\n",
       "      <td>0</td>\n",
       "      <td>0</td>\n",
       "      <td>19.899140</td>\n",
       "      <td>1.494000e-05</td>\n",
       "      <td>-1.494000e-05</td>\n",
       "      <td>175.850252</td>\n",
       "      <td>0.000581</td>\n",
       "      <td>...</td>\n",
       "      <td>-176.0</td>\n",
       "      <td>4.544</td>\n",
       "      <td>0.044</td>\n",
       "      <td>-0.176</td>\n",
       "      <td>0.868</td>\n",
       "      <td>0.233</td>\n",
       "      <td>-0.078</td>\n",
       "      <td>297.00482</td>\n",
       "      <td>48.134129</td>\n",
       "      <td>15.436</td>\n",
       "    </tr>\n",
       "    <tr>\n",
       "      <th>3</th>\n",
       "      <td>FALSE POSITIVE</td>\n",
       "      <td>0</td>\n",
       "      <td>1</td>\n",
       "      <td>0</td>\n",
       "      <td>0</td>\n",
       "      <td>1.736952</td>\n",
       "      <td>2.630000e-07</td>\n",
       "      <td>-2.630000e-07</td>\n",
       "      <td>170.307565</td>\n",
       "      <td>0.000115</td>\n",
       "      <td>...</td>\n",
       "      <td>-174.0</td>\n",
       "      <td>4.564</td>\n",
       "      <td>0.053</td>\n",
       "      <td>-0.168</td>\n",
       "      <td>0.791</td>\n",
       "      <td>0.201</td>\n",
       "      <td>-0.067</td>\n",
       "      <td>285.53461</td>\n",
       "      <td>48.285210</td>\n",
       "      <td>15.597</td>\n",
       "    </tr>\n",
       "    <tr>\n",
       "      <th>4</th>\n",
       "      <td>CONFIRMED</td>\n",
       "      <td>0</td>\n",
       "      <td>0</td>\n",
       "      <td>0</td>\n",
       "      <td>0</td>\n",
       "      <td>2.525592</td>\n",
       "      <td>3.761000e-06</td>\n",
       "      <td>-3.761000e-06</td>\n",
       "      <td>171.595550</td>\n",
       "      <td>0.001130</td>\n",
       "      <td>...</td>\n",
       "      <td>-211.0</td>\n",
       "      <td>4.438</td>\n",
       "      <td>0.070</td>\n",
       "      <td>-0.210</td>\n",
       "      <td>1.046</td>\n",
       "      <td>0.334</td>\n",
       "      <td>-0.133</td>\n",
       "      <td>288.75488</td>\n",
       "      <td>48.226200</td>\n",
       "      <td>15.509</td>\n",
       "    </tr>\n",
       "  </tbody>\n",
       "</table>\n",
       "<p>5 rows × 41 columns</p>\n",
       "</div>"
      ],
      "text/plain": [
       "  koi_disposition  koi_fpflag_nt  koi_fpflag_ss  koi_fpflag_co  koi_fpflag_ec  \\\n",
       "0       CONFIRMED              0              0              0              0   \n",
       "1       CONFIRMED              0              0              0              0   \n",
       "2  FALSE POSITIVE              0              1              0              0   \n",
       "3  FALSE POSITIVE              0              1              0              0   \n",
       "4       CONFIRMED              0              0              0              0   \n",
       "\n",
       "   koi_period  koi_period_err1  koi_period_err2  koi_time0bk  \\\n",
       "0    9.488036     2.775000e-05    -2.775000e-05   170.538750   \n",
       "1   54.418383     2.479000e-04    -2.479000e-04   162.513840   \n",
       "2   19.899140     1.494000e-05    -1.494000e-05   175.850252   \n",
       "3    1.736952     2.630000e-07    -2.630000e-07   170.307565   \n",
       "4    2.525592     3.761000e-06    -3.761000e-06   171.595550   \n",
       "\n",
       "   koi_time0bk_err1  ...  koi_steff_err2  koi_slogg  koi_slogg_err1  \\\n",
       "0          0.002160  ...           -81.0      4.467           0.064   \n",
       "1          0.003520  ...           -81.0      4.467           0.064   \n",
       "2          0.000581  ...          -176.0      4.544           0.044   \n",
       "3          0.000115  ...          -174.0      4.564           0.053   \n",
       "4          0.001130  ...          -211.0      4.438           0.070   \n",
       "\n",
       "   koi_slogg_err2  koi_srad  koi_srad_err1  koi_srad_err2         ra  \\\n",
       "0          -0.096     0.927          0.105         -0.061  291.93423   \n",
       "1          -0.096     0.927          0.105         -0.061  291.93423   \n",
       "2          -0.176     0.868          0.233         -0.078  297.00482   \n",
       "3          -0.168     0.791          0.201         -0.067  285.53461   \n",
       "4          -0.210     1.046          0.334         -0.133  288.75488   \n",
       "\n",
       "         dec  koi_kepmag  \n",
       "0  48.141651      15.347  \n",
       "1  48.141651      15.347  \n",
       "2  48.134129      15.436  \n",
       "3  48.285210      15.597  \n",
       "4  48.226200      15.509  \n",
       "\n",
       "[5 rows x 41 columns]"
      ]
     },
     "execution_count": 2,
     "metadata": {},
     "output_type": "execute_result"
    }
   ],
   "source": [
    "df = pd.read_csv(\"cumulative.csv\")\n",
    "df = df.drop(columns=[\"rowid\", \"kepid\", \"kepoi_name\", \"kepler_name\", \"koi_pdisposition\", \"koi_score\", \"koi_tce_delivname\"])\n",
    "# Drop the null columns where all values are null\n",
    "df = df.dropna(axis='columns', how='all')\n",
    "# Drop the null rows\n",
    "df = df.dropna()\n",
    "df.head()"
   ]
  },
  {
   "cell_type": "markdown",
   "metadata": {},
   "source": [
    "# Create a Train Test Split\n",
    "\n",
    "Use `koi_disposition` for the y values"
   ]
  },
  {
   "cell_type": "code",
   "execution_count": 3,
   "metadata": {},
   "outputs": [
    {
     "name": "stdout",
     "output_type": "stream",
     "text": [
      "(8744, 40) (8744,)\n"
     ]
    }
   ],
   "source": [
    "#assign x and y values\n",
    "X = df.drop(\"koi_disposition\", axis=1)\n",
    "y = df[\"koi_disposition\"]\n",
    "\n",
    "print(X.shape, y.shape)"
   ]
  },
  {
   "cell_type": "code",
   "execution_count": 4,
   "metadata": {},
   "outputs": [],
   "source": [
    "#import dependencies\n",
    "from sklearn.model_selection import train_test_split\n",
    "from sklearn.preprocessing import LabelEncoder, MinMaxScaler\n",
    "from tensorflow.keras.utils import to_categorical"
   ]
  },
  {
   "cell_type": "code",
   "execution_count": 5,
   "metadata": {},
   "outputs": [],
   "source": [
    "#split training and testing data\n",
    "X_train, X_test, y_train, y_test = train_test_split(X, y, random_state=1, stratify=y)"
   ]
  },
  {
   "cell_type": "code",
   "execution_count": 6,
   "metadata": {},
   "outputs": [
    {
     "data": {
      "text/html": [
       "<div>\n",
       "<style scoped>\n",
       "    .dataframe tbody tr th:only-of-type {\n",
       "        vertical-align: middle;\n",
       "    }\n",
       "\n",
       "    .dataframe tbody tr th {\n",
       "        vertical-align: top;\n",
       "    }\n",
       "\n",
       "    .dataframe thead th {\n",
       "        text-align: right;\n",
       "    }\n",
       "</style>\n",
       "<table border=\"1\" class=\"dataframe\">\n",
       "  <thead>\n",
       "    <tr style=\"text-align: right;\">\n",
       "      <th></th>\n",
       "      <th>koi_fpflag_nt</th>\n",
       "      <th>koi_fpflag_ss</th>\n",
       "      <th>koi_fpflag_co</th>\n",
       "      <th>koi_fpflag_ec</th>\n",
       "      <th>koi_period</th>\n",
       "      <th>koi_period_err1</th>\n",
       "      <th>koi_period_err2</th>\n",
       "      <th>koi_time0bk</th>\n",
       "      <th>koi_time0bk_err1</th>\n",
       "      <th>koi_time0bk_err2</th>\n",
       "      <th>...</th>\n",
       "      <th>koi_steff_err2</th>\n",
       "      <th>koi_slogg</th>\n",
       "      <th>koi_slogg_err1</th>\n",
       "      <th>koi_slogg_err2</th>\n",
       "      <th>koi_srad</th>\n",
       "      <th>koi_srad_err1</th>\n",
       "      <th>koi_srad_err2</th>\n",
       "      <th>ra</th>\n",
       "      <th>dec</th>\n",
       "      <th>koi_kepmag</th>\n",
       "    </tr>\n",
       "  </thead>\n",
       "  <tbody>\n",
       "    <tr>\n",
       "      <th>5964</th>\n",
       "      <td>1</td>\n",
       "      <td>0</td>\n",
       "      <td>0</td>\n",
       "      <td>0</td>\n",
       "      <td>252.044440</td>\n",
       "      <td>0.027490</td>\n",
       "      <td>-0.027490</td>\n",
       "      <td>265.2010</td>\n",
       "      <td>0.0494</td>\n",
       "      <td>-0.0494</td>\n",
       "      <td>...</td>\n",
       "      <td>-136.0</td>\n",
       "      <td>4.621</td>\n",
       "      <td>0.041</td>\n",
       "      <td>-0.035</td>\n",
       "      <td>0.664</td>\n",
       "      <td>0.057</td>\n",
       "      <td>-0.059</td>\n",
       "      <td>292.79022</td>\n",
       "      <td>41.948639</td>\n",
       "      <td>15.884</td>\n",
       "    </tr>\n",
       "    <tr>\n",
       "      <th>9410</th>\n",
       "      <td>1</td>\n",
       "      <td>0</td>\n",
       "      <td>0</td>\n",
       "      <td>0</td>\n",
       "      <td>371.518520</td>\n",
       "      <td>0.015790</td>\n",
       "      <td>-0.015790</td>\n",
       "      <td>317.6836</td>\n",
       "      <td>0.0339</td>\n",
       "      <td>-0.0339</td>\n",
       "      <td>...</td>\n",
       "      <td>-206.0</td>\n",
       "      <td>4.377</td>\n",
       "      <td>0.101</td>\n",
       "      <td>-0.203</td>\n",
       "      <td>1.089</td>\n",
       "      <td>0.364</td>\n",
       "      <td>-0.145</td>\n",
       "      <td>293.06400</td>\n",
       "      <td>45.034210</td>\n",
       "      <td>13.731</td>\n",
       "    </tr>\n",
       "    <tr>\n",
       "      <th>4204</th>\n",
       "      <td>0</td>\n",
       "      <td>0</td>\n",
       "      <td>1</td>\n",
       "      <td>0</td>\n",
       "      <td>8.038670</td>\n",
       "      <td>0.000114</td>\n",
       "      <td>-0.000114</td>\n",
       "      <td>135.3098</td>\n",
       "      <td>0.0123</td>\n",
       "      <td>-0.0123</td>\n",
       "      <td>...</td>\n",
       "      <td>-181.0</td>\n",
       "      <td>4.485</td>\n",
       "      <td>0.050</td>\n",
       "      <td>-0.200</td>\n",
       "      <td>0.975</td>\n",
       "      <td>0.282</td>\n",
       "      <td>-0.101</td>\n",
       "      <td>290.51785</td>\n",
       "      <td>41.238762</td>\n",
       "      <td>14.999</td>\n",
       "    </tr>\n",
       "    <tr>\n",
       "      <th>5933</th>\n",
       "      <td>0</td>\n",
       "      <td>0</td>\n",
       "      <td>0</td>\n",
       "      <td>0</td>\n",
       "      <td>18.782160</td>\n",
       "      <td>0.000406</td>\n",
       "      <td>-0.000406</td>\n",
       "      <td>147.8508</td>\n",
       "      <td>0.0148</td>\n",
       "      <td>-0.0148</td>\n",
       "      <td>...</td>\n",
       "      <td>-167.0</td>\n",
       "      <td>4.488</td>\n",
       "      <td>0.048</td>\n",
       "      <td>-0.290</td>\n",
       "      <td>0.940</td>\n",
       "      <td>0.386</td>\n",
       "      <td>-0.087</td>\n",
       "      <td>291.76413</td>\n",
       "      <td>41.860130</td>\n",
       "      <td>14.043</td>\n",
       "    </tr>\n",
       "    <tr>\n",
       "      <th>6996</th>\n",
       "      <td>1</td>\n",
       "      <td>0</td>\n",
       "      <td>1</td>\n",
       "      <td>0</td>\n",
       "      <td>12.429716</td>\n",
       "      <td>0.000472</td>\n",
       "      <td>-0.000472</td>\n",
       "      <td>141.2846</td>\n",
       "      <td>0.0420</td>\n",
       "      <td>-0.0420</td>\n",
       "      <td>...</td>\n",
       "      <td>-200.0</td>\n",
       "      <td>4.534</td>\n",
       "      <td>0.037</td>\n",
       "      <td>-0.213</td>\n",
       "      <td>0.905</td>\n",
       "      <td>0.281</td>\n",
       "      <td>-0.088</td>\n",
       "      <td>297.52072</td>\n",
       "      <td>40.585419</td>\n",
       "      <td>15.842</td>\n",
       "    </tr>\n",
       "  </tbody>\n",
       "</table>\n",
       "<p>5 rows × 40 columns</p>\n",
       "</div>"
      ],
      "text/plain": [
       "      koi_fpflag_nt  koi_fpflag_ss  koi_fpflag_co  koi_fpflag_ec  koi_period  \\\n",
       "5964              1              0              0              0  252.044440   \n",
       "9410              1              0              0              0  371.518520   \n",
       "4204              0              0              1              0    8.038670   \n",
       "5933              0              0              0              0   18.782160   \n",
       "6996              1              0              1              0   12.429716   \n",
       "\n",
       "      koi_period_err1  koi_period_err2  koi_time0bk  koi_time0bk_err1  \\\n",
       "5964         0.027490        -0.027490     265.2010            0.0494   \n",
       "9410         0.015790        -0.015790     317.6836            0.0339   \n",
       "4204         0.000114        -0.000114     135.3098            0.0123   \n",
       "5933         0.000406        -0.000406     147.8508            0.0148   \n",
       "6996         0.000472        -0.000472     141.2846            0.0420   \n",
       "\n",
       "      koi_time0bk_err2  ...  koi_steff_err2  koi_slogg  koi_slogg_err1  \\\n",
       "5964           -0.0494  ...          -136.0      4.621           0.041   \n",
       "9410           -0.0339  ...          -206.0      4.377           0.101   \n",
       "4204           -0.0123  ...          -181.0      4.485           0.050   \n",
       "5933           -0.0148  ...          -167.0      4.488           0.048   \n",
       "6996           -0.0420  ...          -200.0      4.534           0.037   \n",
       "\n",
       "      koi_slogg_err2  koi_srad  koi_srad_err1  koi_srad_err2         ra  \\\n",
       "5964          -0.035     0.664          0.057         -0.059  292.79022   \n",
       "9410          -0.203     1.089          0.364         -0.145  293.06400   \n",
       "4204          -0.200     0.975          0.282         -0.101  290.51785   \n",
       "5933          -0.290     0.940          0.386         -0.087  291.76413   \n",
       "6996          -0.213     0.905          0.281         -0.088  297.52072   \n",
       "\n",
       "            dec  koi_kepmag  \n",
       "5964  41.948639      15.884  \n",
       "9410  45.034210      13.731  \n",
       "4204  41.238762      14.999  \n",
       "5933  41.860130      14.043  \n",
       "6996  40.585419      15.842  \n",
       "\n",
       "[5 rows x 40 columns]"
      ]
     },
     "execution_count": 6,
     "metadata": {},
     "output_type": "execute_result"
    }
   ],
   "source": [
    "X_train.head()"
   ]
  },
  {
   "cell_type": "markdown",
   "metadata": {},
   "source": [
    "# Pre-processing\n",
    "\n",
    "Scale the data using the MinMaxScaler"
   ]
  },
  {
   "cell_type": "code",
   "execution_count": 7,
   "metadata": {},
   "outputs": [
    {
     "name": "stderr",
     "output_type": "stream",
     "text": [
      "C:\\Users\\dkloe\\Anaconda3\\envs\\PythonWebMongo\\lib\\site-packages\\sklearn\\preprocessing\\data.py:334: DataConversionWarning: Data with input dtype int64, float64 were all converted to float64 by MinMaxScaler.\n",
      "  return self.partial_fit(X, y)\n"
     ]
    }
   ],
   "source": [
    "X_scaler = MinMaxScaler().fit(X_train)\n",
    "X_train_scaled = X_scaler.transform(X_train)\n",
    "X_test_scaled = X_scaler.transform(X_test)"
   ]
  },
  {
   "cell_type": "markdown",
   "metadata": {},
   "source": [
    "# Train the Support Vector Machine - Linear Kernel"
   ]
  },
  {
   "cell_type": "code",
   "execution_count": 8,
   "metadata": {},
   "outputs": [
    {
     "data": {
      "text/plain": [
       "SVC(C=1.0, cache_size=200, class_weight=None, coef0=0.0,\n",
       "  decision_function_shape='ovr', degree=3, gamma='auto_deprecated',\n",
       "  kernel='linear', max_iter=-1, probability=False, random_state=None,\n",
       "  shrinking=True, tol=0.001, verbose=False)"
      ]
     },
     "execution_count": 8,
     "metadata": {},
     "output_type": "execute_result"
    }
   ],
   "source": [
    "# Support vector machine linear classifier\n",
    "from sklearn.svm import SVC \n",
    "model = SVC(kernel='linear')\n",
    "model.fit(X_train_scaled, y_train)"
   ]
  },
  {
   "cell_type": "code",
   "execution_count": 9,
   "metadata": {},
   "outputs": [
    {
     "name": "stdout",
     "output_type": "stream",
     "text": [
      "Training Data Score: 0.8479719426654467\n",
      "Testing Data Score: 0.8462946020128088\n"
     ]
    }
   ],
   "source": [
    "print(f\"Training Data Score: {model.score(X_train_scaled, y_train)}\")\n",
    "print(f\"Testing Data Score: {model.score(X_test_scaled, y_test)}\")"
   ]
  },
  {
   "cell_type": "markdown",
   "metadata": {},
   "source": [
    "# Hyperparameter Tuning\n",
    "\n",
    "Use `GridSearchCV` to tune the `C` and `gamma` parameters"
   ]
  },
  {
   "cell_type": "code",
   "execution_count": 10,
   "metadata": {},
   "outputs": [],
   "source": [
    "# Create the GridSearchCV model\n",
    "from sklearn.model_selection import GridSearchCV\n",
    "param_grid = {'C': [10, 25, 50, 100, 250],\n",
    "              'gamma': [0.00005, 0.0001, 0.0005, 0.001, 0.005]}\n",
    "grid = GridSearchCV(model, param_grid, verbose=3)"
   ]
  },
  {
   "cell_type": "code",
   "execution_count": 11,
   "metadata": {},
   "outputs": [
    {
     "name": "stdout",
     "output_type": "stream",
     "text": [
      "Fitting 3 folds for each of 25 candidates, totalling 75 fits\n",
      "[CV] C=10, gamma=5e-05 ...............................................\n"
     ]
    },
    {
     "name": "stderr",
     "output_type": "stream",
     "text": [
      "C:\\Users\\dkloe\\Anaconda3\\envs\\PythonWebMongo\\lib\\site-packages\\sklearn\\model_selection\\_split.py:2053: FutureWarning: You should specify a value for 'cv' instead of relying on the default value. The default value will change from 3 to 5 in version 0.22.\n",
      "  warnings.warn(CV_WARNING, FutureWarning)\n",
      "[Parallel(n_jobs=1)]: Using backend SequentialBackend with 1 concurrent workers.\n"
     ]
    },
    {
     "name": "stdout",
     "output_type": "stream",
     "text": [
      "[CV] ...... C=10, gamma=5e-05, score=0.8651120256058528, total=   0.6s\n",
      "[CV] C=10, gamma=5e-05 ...............................................\n"
     ]
    },
    {
     "name": "stderr",
     "output_type": "stream",
     "text": [
      "[Parallel(n_jobs=1)]: Done   1 out of   1 | elapsed:    1.0s remaining:    0.0s\n"
     ]
    },
    {
     "name": "stdout",
     "output_type": "stream",
     "text": [
      "[CV] ...... C=10, gamma=5e-05, score=0.8746569075937786, total=   0.5s\n",
      "[CV] C=10, gamma=5e-05 ...............................................\n"
     ]
    },
    {
     "name": "stderr",
     "output_type": "stream",
     "text": [
      "[Parallel(n_jobs=1)]: Done   2 out of   2 | elapsed:    2.0s remaining:    0.0s\n"
     ]
    },
    {
     "name": "stdout",
     "output_type": "stream",
     "text": [
      "[CV] ...... C=10, gamma=5e-05, score=0.8672768878718535, total=   0.5s\n",
      "[CV] C=10, gamma=0.0001 ..............................................\n",
      "[CV] ..... C=10, gamma=0.0001, score=0.8651120256058528, total=   0.6s\n",
      "[CV] C=10, gamma=0.0001 ..............................................\n",
      "[CV] ..... C=10, gamma=0.0001, score=0.8746569075937786, total=   0.5s\n",
      "[CV] C=10, gamma=0.0001 ..............................................\n",
      "[CV] ..... C=10, gamma=0.0001, score=0.8672768878718535, total=   0.5s\n",
      "[CV] C=10, gamma=0.0005 ..............................................\n",
      "[CV] ..... C=10, gamma=0.0005, score=0.8651120256058528, total=   0.6s\n",
      "[CV] C=10, gamma=0.0005 ..............................................\n",
      "[CV] ..... C=10, gamma=0.0005, score=0.8746569075937786, total=   0.5s\n",
      "[CV] C=10, gamma=0.0005 ..............................................\n",
      "[CV] ..... C=10, gamma=0.0005, score=0.8672768878718535, total=   0.5s\n",
      "[CV] C=10, gamma=0.001 ...............................................\n",
      "[CV] ...... C=10, gamma=0.001, score=0.8651120256058528, total=   0.6s\n",
      "[CV] C=10, gamma=0.001 ...............................................\n",
      "[CV] ...... C=10, gamma=0.001, score=0.8746569075937786, total=   0.5s\n",
      "[CV] C=10, gamma=0.001 ...............................................\n",
      "[CV] ...... C=10, gamma=0.001, score=0.8672768878718535, total=   0.5s\n",
      "[CV] C=10, gamma=0.005 ...............................................\n",
      "[CV] ...... C=10, gamma=0.005, score=0.8651120256058528, total=   0.6s\n",
      "[CV] C=10, gamma=0.005 ...............................................\n",
      "[CV] ...... C=10, gamma=0.005, score=0.8746569075937786, total=   0.5s\n",
      "[CV] C=10, gamma=0.005 ...............................................\n",
      "[CV] ...... C=10, gamma=0.005, score=0.8672768878718535, total=   0.5s\n",
      "[CV] C=25, gamma=5e-05 ...............................................\n",
      "[CV] ...... C=25, gamma=5e-05, score=0.8737997256515775, total=   0.6s\n",
      "[CV] C=25, gamma=5e-05 ...............................................\n",
      "[CV] ...... C=25, gamma=5e-05, score=0.8801463860933212, total=   0.6s\n",
      "[CV] C=25, gamma=5e-05 ...............................................\n",
      "[CV] ...... C=25, gamma=5e-05, score=0.8741418764302059, total=   0.6s\n",
      "[CV] C=25, gamma=0.0001 ..............................................\n",
      "[CV] ..... C=25, gamma=0.0001, score=0.8737997256515775, total=   0.6s\n",
      "[CV] C=25, gamma=0.0001 ..............................................\n",
      "[CV] ..... C=25, gamma=0.0001, score=0.8801463860933212, total=   0.5s\n",
      "[CV] C=25, gamma=0.0001 ..............................................\n",
      "[CV] ..... C=25, gamma=0.0001, score=0.8741418764302059, total=   0.6s\n",
      "[CV] C=25, gamma=0.0005 ..............................................\n",
      "[CV] ..... C=25, gamma=0.0005, score=0.8737997256515775, total=   0.6s\n",
      "[CV] C=25, gamma=0.0005 ..............................................\n",
      "[CV] ..... C=25, gamma=0.0005, score=0.8801463860933212, total=   0.5s\n",
      "[CV] C=25, gamma=0.0005 ..............................................\n",
      "[CV] ..... C=25, gamma=0.0005, score=0.8741418764302059, total=   0.6s\n",
      "[CV] C=25, gamma=0.001 ...............................................\n",
      "[CV] ...... C=25, gamma=0.001, score=0.8737997256515775, total=   0.6s\n",
      "[CV] C=25, gamma=0.001 ...............................................\n",
      "[CV] ...... C=25, gamma=0.001, score=0.8801463860933212, total=   0.5s\n",
      "[CV] C=25, gamma=0.001 ...............................................\n",
      "[CV] ...... C=25, gamma=0.001, score=0.8741418764302059, total=   0.6s\n",
      "[CV] C=25, gamma=0.005 ...............................................\n",
      "[CV] ...... C=25, gamma=0.005, score=0.8737997256515775, total=   0.6s\n",
      "[CV] C=25, gamma=0.005 ...............................................\n",
      "[CV] ...... C=25, gamma=0.005, score=0.8801463860933212, total=   0.6s\n",
      "[CV] C=25, gamma=0.005 ...............................................\n",
      "[CV] ...... C=25, gamma=0.005, score=0.8741418764302059, total=   0.6s\n",
      "[CV] C=50, gamma=5e-05 ...............................................\n",
      "[CV] ...... C=50, gamma=5e-05, score=0.8760859625057156, total=   0.7s\n",
      "[CV] C=50, gamma=5e-05 ...............................................\n",
      "[CV] ...... C=50, gamma=5e-05, score=0.8856358645928637, total=   0.6s\n",
      "[CV] C=50, gamma=5e-05 ...............................................\n",
      "[CV] ...... C=50, gamma=5e-05, score=0.8814645308924485, total=   0.7s\n",
      "[CV] C=50, gamma=0.0001 ..............................................\n",
      "[CV] ..... C=50, gamma=0.0001, score=0.8760859625057156, total=   0.7s\n",
      "[CV] C=50, gamma=0.0001 ..............................................\n",
      "[CV] ..... C=50, gamma=0.0001, score=0.8856358645928637, total=   0.6s\n",
      "[CV] C=50, gamma=0.0001 ..............................................\n",
      "[CV] ..... C=50, gamma=0.0001, score=0.8814645308924485, total=   0.7s\n",
      "[CV] C=50, gamma=0.0005 ..............................................\n",
      "[CV] ..... C=50, gamma=0.0005, score=0.8760859625057156, total=   0.7s\n",
      "[CV] C=50, gamma=0.0005 ..............................................\n",
      "[CV] ..... C=50, gamma=0.0005, score=0.8856358645928637, total=   0.6s\n",
      "[CV] C=50, gamma=0.0005 ..............................................\n",
      "[CV] ..... C=50, gamma=0.0005, score=0.8814645308924485, total=   0.7s\n",
      "[CV] C=50, gamma=0.001 ...............................................\n",
      "[CV] ...... C=50, gamma=0.001, score=0.8760859625057156, total=   0.7s\n",
      "[CV] C=50, gamma=0.001 ...............................................\n",
      "[CV] ...... C=50, gamma=0.001, score=0.8856358645928637, total=   0.6s\n",
      "[CV] C=50, gamma=0.001 ...............................................\n",
      "[CV] ...... C=50, gamma=0.001, score=0.8814645308924485, total=   0.7s\n",
      "[CV] C=50, gamma=0.005 ...............................................\n",
      "[CV] ...... C=50, gamma=0.005, score=0.8760859625057156, total=   0.7s\n",
      "[CV] C=50, gamma=0.005 ...............................................\n",
      "[CV] ...... C=50, gamma=0.005, score=0.8856358645928637, total=   0.7s\n",
      "[CV] C=50, gamma=0.005 ...............................................\n",
      "[CV] ...... C=50, gamma=0.005, score=0.8814645308924485, total=   0.7s\n",
      "[CV] C=100, gamma=5e-05 ..............................................\n",
      "[CV] ..... C=100, gamma=5e-05, score=0.8806584362139918, total=   1.3s\n",
      "[CV] C=100, gamma=5e-05 ..............................................\n",
      "[CV] ..... C=100, gamma=5e-05, score=0.8938700823421775, total=   1.0s\n",
      "[CV] C=100, gamma=5e-05 ..............................................\n",
      "[CV] ..... C=100, gamma=5e-05, score=0.8837528604118993, total=   1.3s\n",
      "[CV] C=100, gamma=0.0001 .............................................\n",
      "[CV] .... C=100, gamma=0.0001, score=0.8806584362139918, total=   1.3s\n",
      "[CV] C=100, gamma=0.0001 .............................................\n",
      "[CV] .... C=100, gamma=0.0001, score=0.8938700823421775, total=   1.0s\n",
      "[CV] C=100, gamma=0.0001 .............................................\n",
      "[CV] .... C=100, gamma=0.0001, score=0.8837528604118993, total=   1.3s\n",
      "[CV] C=100, gamma=0.0005 .............................................\n",
      "[CV] .... C=100, gamma=0.0005, score=0.8806584362139918, total=   1.3s\n",
      "[CV] C=100, gamma=0.0005 .............................................\n",
      "[CV] .... C=100, gamma=0.0005, score=0.8938700823421775, total=   1.0s\n",
      "[CV] C=100, gamma=0.0005 .............................................\n",
      "[CV] .... C=100, gamma=0.0005, score=0.8837528604118993, total=   1.3s\n",
      "[CV] C=100, gamma=0.001 ..............................................\n",
      "[CV] ..... C=100, gamma=0.001, score=0.8806584362139918, total=   1.3s\n",
      "[CV] C=100, gamma=0.001 ..............................................\n",
      "[CV] ..... C=100, gamma=0.001, score=0.8938700823421775, total=   1.0s\n",
      "[CV] C=100, gamma=0.001 ..............................................\n",
      "[CV] ..... C=100, gamma=0.001, score=0.8837528604118993, total=   1.3s\n",
      "[CV] C=100, gamma=0.005 ..............................................\n",
      "[CV] ..... C=100, gamma=0.005, score=0.8806584362139918, total=   1.3s\n",
      "[CV] C=100, gamma=0.005 ..............................................\n",
      "[CV] ..... C=100, gamma=0.005, score=0.8938700823421775, total=   1.0s\n",
      "[CV] C=100, gamma=0.005 ..............................................\n",
      "[CV] ..... C=100, gamma=0.005, score=0.8837528604118993, total=   1.3s\n",
      "[CV] C=250, gamma=5e-05 ..............................................\n"
     ]
    },
    {
     "name": "stdout",
     "output_type": "stream",
     "text": [
      "[CV] ..... C=250, gamma=5e-05, score=0.8824874256973022, total=   2.5s\n",
      "[CV] C=250, gamma=5e-05 ..............................................\n",
      "[CV] ..... C=250, gamma=5e-05, score=0.8975297346752058, total=   1.3s\n",
      "[CV] C=250, gamma=5e-05 ..............................................\n",
      "[CV] ....... C=250, gamma=5e-05, score=0.88558352402746, total=   2.1s\n",
      "[CV] C=250, gamma=0.0001 .............................................\n",
      "[CV] .... C=250, gamma=0.0001, score=0.8824874256973022, total=   2.5s\n",
      "[CV] C=250, gamma=0.0001 .............................................\n",
      "[CV] .... C=250, gamma=0.0001, score=0.8975297346752058, total=   1.3s\n",
      "[CV] C=250, gamma=0.0001 .............................................\n",
      "[CV] ...... C=250, gamma=0.0001, score=0.88558352402746, total=   2.1s\n",
      "[CV] C=250, gamma=0.0005 .............................................\n",
      "[CV] .... C=250, gamma=0.0005, score=0.8824874256973022, total=   2.5s\n",
      "[CV] C=250, gamma=0.0005 .............................................\n",
      "[CV] .... C=250, gamma=0.0005, score=0.8975297346752058, total=   1.3s\n",
      "[CV] C=250, gamma=0.0005 .............................................\n",
      "[CV] ...... C=250, gamma=0.0005, score=0.88558352402746, total=   2.1s\n",
      "[CV] C=250, gamma=0.001 ..............................................\n",
      "[CV] ..... C=250, gamma=0.001, score=0.8824874256973022, total=   2.5s\n",
      "[CV] C=250, gamma=0.001 ..............................................\n",
      "[CV] ..... C=250, gamma=0.001, score=0.8975297346752058, total=   1.3s\n",
      "[CV] C=250, gamma=0.001 ..............................................\n",
      "[CV] ....... C=250, gamma=0.001, score=0.88558352402746, total=   2.1s\n",
      "[CV] C=250, gamma=0.005 ..............................................\n",
      "[CV] ..... C=250, gamma=0.005, score=0.8824874256973022, total=   2.5s\n",
      "[CV] C=250, gamma=0.005 ..............................................\n",
      "[CV] ..... C=250, gamma=0.005, score=0.8975297346752058, total=   1.4s\n",
      "[CV] C=250, gamma=0.005 ..............................................\n",
      "[CV] ....... C=250, gamma=0.005, score=0.88558352402746, total=   2.1s\n"
     ]
    },
    {
     "name": "stderr",
     "output_type": "stream",
     "text": [
      "[Parallel(n_jobs=1)]: Done  75 out of  75 | elapsed:  1.8min finished\n"
     ]
    },
    {
     "data": {
      "text/plain": [
       "GridSearchCV(cv='warn', error_score='raise-deprecating',\n",
       "       estimator=SVC(C=1.0, cache_size=200, class_weight=None, coef0=0.0,\n",
       "  decision_function_shape='ovr', degree=3, gamma='auto_deprecated',\n",
       "  kernel='linear', max_iter=-1, probability=False, random_state=None,\n",
       "  shrinking=True, tol=0.001, verbose=False),\n",
       "       fit_params=None, iid='warn', n_jobs=None,\n",
       "       param_grid={'C': [10, 25, 50, 100, 250], 'gamma': [5e-05, 0.0001, 0.0005, 0.001, 0.005]},\n",
       "       pre_dispatch='2*n_jobs', refit=True, return_train_score='warn',\n",
       "       scoring=None, verbose=3)"
      ]
     },
     "execution_count": 11,
     "metadata": {},
     "output_type": "execute_result"
    }
   ],
   "source": [
    "# Train the model with GridSearch\n",
    "grid.fit(X_train_scaled, y_train)"
   ]
  },
  {
   "cell_type": "code",
   "execution_count": 12,
   "metadata": {},
   "outputs": [
    {
     "name": "stdout",
     "output_type": "stream",
     "text": [
      "{'C': 250, 'gamma': 5e-05}\n",
      "0.8885330893565111\n"
     ]
    }
   ],
   "source": [
    "print(grid.best_params_)\n",
    "print(grid.best_score_)"
   ]
  },
  {
   "cell_type": "markdown",
   "metadata": {},
   "source": [
    "# Train the Support Vector Machine - Polynomial Kernel"
   ]
  },
  {
   "cell_type": "code",
   "execution_count": 13,
   "metadata": {},
   "outputs": [
    {
     "name": "stderr",
     "output_type": "stream",
     "text": [
      "C:\\Users\\dkloe\\Anaconda3\\envs\\PythonWebMongo\\lib\\site-packages\\sklearn\\svm\\base.py:196: FutureWarning: The default value of gamma will change from 'auto' to 'scale' in version 0.22 to account better for unscaled features. Set gamma explicitly to 'auto' or 'scale' to avoid this warning.\n",
      "  \"avoid this warning.\", FutureWarning)\n"
     ]
    },
    {
     "data": {
      "text/plain": [
       "SVC(C=1.0, cache_size=200, class_weight=None, coef0=0.0,\n",
       "  decision_function_shape='ovr', degree=3, gamma='auto_deprecated',\n",
       "  kernel='poly', max_iter=-1, probability=False, random_state=None,\n",
       "  shrinking=True, tol=0.001, verbose=False)"
      ]
     },
     "execution_count": 13,
     "metadata": {},
     "output_type": "execute_result"
    }
   ],
   "source": [
    "# Support vector machine linear classifier\n",
    "from sklearn.svm import SVC \n",
    "model2 = SVC(kernel='poly')\n",
    "model2.fit(X_train_scaled, y_train)"
   ]
  },
  {
   "cell_type": "code",
   "execution_count": 14,
   "metadata": {},
   "outputs": [
    {
     "name": "stdout",
     "output_type": "stream",
     "text": [
      "Training Data Score: 0.7377249161329674\n",
      "Testing Data Score: 0.7397072278133577\n"
     ]
    }
   ],
   "source": [
    "print(f\"Training Data Score: {model2.score(X_train_scaled, y_train)}\")\n",
    "print(f\"Testing Data Score: {model2.score(X_test_scaled, y_test)}\")"
   ]
  },
  {
   "cell_type": "code",
   "execution_count": 15,
   "metadata": {},
   "outputs": [],
   "source": [
    "# Create the GridSearchCV model\n",
    "from sklearn.model_selection import GridSearchCV\n",
    "param_grid = {'C': [5, 10, 25, 50],\n",
    "              'gamma': [0.0001, 0.0005, 0.001, 0.005]}\n",
    "grid = GridSearchCV(model2, param_grid, verbose=3)"
   ]
  },
  {
   "cell_type": "code",
   "execution_count": 16,
   "metadata": {},
   "outputs": [
    {
     "name": "stdout",
     "output_type": "stream",
     "text": [
      "Fitting 3 folds for each of 16 candidates, totalling 48 fits\n",
      "[CV] C=5, gamma=0.0001 ...............................................\n"
     ]
    },
    {
     "name": "stderr",
     "output_type": "stream",
     "text": [
      "C:\\Users\\dkloe\\Anaconda3\\envs\\PythonWebMongo\\lib\\site-packages\\sklearn\\model_selection\\_split.py:2053: FutureWarning: You should specify a value for 'cv' instead of relying on the default value. The default value will change from 3 to 5 in version 0.22.\n",
      "  warnings.warn(CV_WARNING, FutureWarning)\n",
      "[Parallel(n_jobs=1)]: Using backend SequentialBackend with 1 concurrent workers.\n"
     ]
    },
    {
     "name": "stdout",
     "output_type": "stream",
     "text": [
      "[CV] ...... C=5, gamma=0.0001, score=0.4983996342021033, total=   1.8s\n",
      "[CV] C=5, gamma=0.0001 ...............................................\n"
     ]
    },
    {
     "name": "stderr",
     "output_type": "stream",
     "text": [
      "[Parallel(n_jobs=1)]: Done   1 out of   1 | elapsed:    2.7s remaining:    0.0s\n"
     ]
    },
    {
     "name": "stdout",
     "output_type": "stream",
     "text": [
      "[CV] ..... C=5, gamma=0.0001, score=0.49817017383348583, total=   1.8s\n",
      "[CV] C=5, gamma=0.0001 ...............................................\n"
     ]
    },
    {
     "name": "stderr",
     "output_type": "stream",
     "text": [
      "[Parallel(n_jobs=1)]: Done   2 out of   2 | elapsed:    5.4s remaining:    0.0s\n"
     ]
    },
    {
     "name": "stdout",
     "output_type": "stream",
     "text": [
      "[CV] ...... C=5, gamma=0.0001, score=0.4983981693363844, total=   1.8s\n",
      "[CV] C=5, gamma=0.0005 ...............................................\n",
      "[CV] ...... C=5, gamma=0.0005, score=0.4983996342021033, total=   1.8s\n",
      "[CV] C=5, gamma=0.0005 ...............................................\n",
      "[CV] ..... C=5, gamma=0.0005, score=0.49817017383348583, total=   1.8s\n",
      "[CV] C=5, gamma=0.0005 ...............................................\n",
      "[CV] ...... C=5, gamma=0.0005, score=0.4983981693363844, total=   1.8s\n",
      "[CV] C=5, gamma=0.001 ................................................\n",
      "[CV] ....... C=5, gamma=0.001, score=0.4983996342021033, total=   1.8s\n",
      "[CV] C=5, gamma=0.001 ................................................\n",
      "[CV] ...... C=5, gamma=0.001, score=0.49817017383348583, total=   1.7s\n",
      "[CV] C=5, gamma=0.001 ................................................\n",
      "[CV] ....... C=5, gamma=0.001, score=0.4983981693363844, total=   1.7s\n",
      "[CV] C=5, gamma=0.005 ................................................\n",
      "[CV] ....... C=5, gamma=0.005, score=0.4983996342021033, total=   1.9s\n",
      "[CV] C=5, gamma=0.005 ................................................\n",
      "[CV] ...... C=5, gamma=0.005, score=0.49817017383348583, total=   1.8s\n",
      "[CV] C=5, gamma=0.005 ................................................\n",
      "[CV] ....... C=5, gamma=0.005, score=0.4983981693363844, total=   1.8s\n",
      "[CV] C=10, gamma=0.0001 ..............................................\n",
      "[CV] ..... C=10, gamma=0.0001, score=0.4983996342021033, total=   1.7s\n",
      "[CV] C=10, gamma=0.0001 ..............................................\n",
      "[CV] .... C=10, gamma=0.0001, score=0.49817017383348583, total=   1.8s\n",
      "[CV] C=10, gamma=0.0001 ..............................................\n",
      "[CV] ..... C=10, gamma=0.0001, score=0.4983981693363844, total=   1.8s\n",
      "[CV] C=10, gamma=0.0005 ..............................................\n",
      "[CV] ..... C=10, gamma=0.0005, score=0.4983996342021033, total=   1.8s\n",
      "[CV] C=10, gamma=0.0005 ..............................................\n",
      "[CV] .... C=10, gamma=0.0005, score=0.49817017383348583, total=   1.8s\n",
      "[CV] C=10, gamma=0.0005 ..............................................\n",
      "[CV] ..... C=10, gamma=0.0005, score=0.4983981693363844, total=   1.8s\n",
      "[CV] C=10, gamma=0.001 ...............................................\n",
      "[CV] ...... C=10, gamma=0.001, score=0.4983996342021033, total=   1.8s\n",
      "[CV] C=10, gamma=0.001 ...............................................\n",
      "[CV] ..... C=10, gamma=0.001, score=0.49817017383348583, total=   1.8s\n",
      "[CV] C=10, gamma=0.001 ...............................................\n",
      "[CV] ...... C=10, gamma=0.001, score=0.4983981693363844, total=   1.8s\n",
      "[CV] C=10, gamma=0.005 ...............................................\n",
      "[CV] ...... C=10, gamma=0.005, score=0.4983996342021033, total=   1.8s\n",
      "[CV] C=10, gamma=0.005 ...............................................\n",
      "[CV] ..... C=10, gamma=0.005, score=0.49817017383348583, total=   1.8s\n",
      "[CV] C=10, gamma=0.005 ...............................................\n",
      "[CV] ...... C=10, gamma=0.005, score=0.4983981693363844, total=   1.8s\n",
      "[CV] C=25, gamma=0.0001 ..............................................\n",
      "[CV] ..... C=25, gamma=0.0001, score=0.4983996342021033, total=   1.8s\n",
      "[CV] C=25, gamma=0.0001 ..............................................\n",
      "[CV] .... C=25, gamma=0.0001, score=0.49817017383348583, total=   1.7s\n",
      "[CV] C=25, gamma=0.0001 ..............................................\n",
      "[CV] ..... C=25, gamma=0.0001, score=0.4983981693363844, total=   1.8s\n",
      "[CV] C=25, gamma=0.0005 ..............................................\n",
      "[CV] ..... C=25, gamma=0.0005, score=0.4983996342021033, total=   1.8s\n",
      "[CV] C=25, gamma=0.0005 ..............................................\n",
      "[CV] .... C=25, gamma=0.0005, score=0.49817017383348583, total=   1.8s\n",
      "[CV] C=25, gamma=0.0005 ..............................................\n",
      "[CV] ..... C=25, gamma=0.0005, score=0.4983981693363844, total=   1.7s\n",
      "[CV] C=25, gamma=0.001 ...............................................\n",
      "[CV] ...... C=25, gamma=0.001, score=0.4983996342021033, total=   1.8s\n",
      "[CV] C=25, gamma=0.001 ...............................................\n",
      "[CV] ..... C=25, gamma=0.001, score=0.49817017383348583, total=   1.8s\n",
      "[CV] C=25, gamma=0.001 ...............................................\n",
      "[CV] ...... C=25, gamma=0.001, score=0.4983981693363844, total=   1.8s\n",
      "[CV] C=25, gamma=0.005 ...............................................\n",
      "[CV] ...... C=25, gamma=0.005, score=0.4983996342021033, total=   1.8s\n",
      "[CV] C=25, gamma=0.005 ...............................................\n",
      "[CV] ..... C=25, gamma=0.005, score=0.49817017383348583, total=   1.8s\n",
      "[CV] C=25, gamma=0.005 ...............................................\n",
      "[CV] ...... C=25, gamma=0.005, score=0.4983981693363844, total=   1.8s\n",
      "[CV] C=50, gamma=0.0001 ..............................................\n",
      "[CV] ..... C=50, gamma=0.0001, score=0.4983996342021033, total=   1.7s\n",
      "[CV] C=50, gamma=0.0001 ..............................................\n",
      "[CV] .... C=50, gamma=0.0001, score=0.49817017383348583, total=   1.7s\n",
      "[CV] C=50, gamma=0.0001 ..............................................\n",
      "[CV] ..... C=50, gamma=0.0001, score=0.4983981693363844, total=   1.7s\n",
      "[CV] C=50, gamma=0.0005 ..............................................\n",
      "[CV] ..... C=50, gamma=0.0005, score=0.4983996342021033, total=   1.7s\n",
      "[CV] C=50, gamma=0.0005 ..............................................\n",
      "[CV] .... C=50, gamma=0.0005, score=0.49817017383348583, total=   1.8s\n",
      "[CV] C=50, gamma=0.0005 ..............................................\n",
      "[CV] ..... C=50, gamma=0.0005, score=0.4983981693363844, total=   1.8s\n",
      "[CV] C=50, gamma=0.001 ...............................................\n",
      "[CV] ...... C=50, gamma=0.001, score=0.4983996342021033, total=   1.8s\n",
      "[CV] C=50, gamma=0.001 ...............................................\n",
      "[CV] ..... C=50, gamma=0.001, score=0.49817017383348583, total=   1.8s\n",
      "[CV] C=50, gamma=0.001 ...............................................\n",
      "[CV] ...... C=50, gamma=0.001, score=0.4983981693363844, total=   1.8s\n",
      "[CV] C=50, gamma=0.005 ...............................................\n",
      "[CV] ...... C=50, gamma=0.005, score=0.7302240512117055, total=   1.8s\n",
      "[CV] C=50, gamma=0.005 ...............................................\n",
      "[CV] ...... C=50, gamma=0.005, score=0.7342177493138152, total=   1.8s\n",
      "[CV] C=50, gamma=0.005 ...............................................\n",
      "[CV] ...... C=50, gamma=0.005, score=0.7395881006864988, total=   1.8s\n"
     ]
    },
    {
     "name": "stderr",
     "output_type": "stream",
     "text": [
      "[Parallel(n_jobs=1)]: Done  48 out of  48 | elapsed:  2.2min finished\n"
     ]
    },
    {
     "data": {
      "text/plain": [
       "GridSearchCV(cv='warn', error_score='raise-deprecating',\n",
       "       estimator=SVC(C=1.0, cache_size=200, class_weight=None, coef0=0.0,\n",
       "  decision_function_shape='ovr', degree=3, gamma='auto_deprecated',\n",
       "  kernel='poly', max_iter=-1, probability=False, random_state=None,\n",
       "  shrinking=True, tol=0.001, verbose=False),\n",
       "       fit_params=None, iid='warn', n_jobs=None,\n",
       "       param_grid={'C': [5, 10, 25, 50], 'gamma': [0.0001, 0.0005, 0.001, 0.005]},\n",
       "       pre_dispatch='2*n_jobs', refit=True, return_train_score='warn',\n",
       "       scoring=None, verbose=3)"
      ]
     },
     "execution_count": 16,
     "metadata": {},
     "output_type": "execute_result"
    }
   ],
   "source": [
    "# Train the model with GridSearch\n",
    "grid.fit(X_train_scaled, y_train)"
   ]
  },
  {
   "cell_type": "code",
   "execution_count": 17,
   "metadata": {},
   "outputs": [
    {
     "name": "stdout",
     "output_type": "stream",
     "text": [
      "{'C': 50, 'gamma': 0.005}\n",
      "0.7346752058554438\n"
     ]
    }
   ],
   "source": [
    "print(grid.best_params_)\n",
    "print(grid.best_score_)"
   ]
  },
  {
   "cell_type": "markdown",
   "metadata": {},
   "source": [
    "# Train the Support Vector Machine - RBF Kernel"
   ]
  },
  {
   "cell_type": "code",
   "execution_count": 18,
   "metadata": {},
   "outputs": [
    {
     "data": {
      "text/plain": [
       "SVC(C=1.0, cache_size=200, class_weight=None, coef0=0.0,\n",
       "  decision_function_shape='ovr', degree=3, gamma=2, kernel='rbf',\n",
       "  max_iter=-1, probability=False, random_state=None, shrinking=True,\n",
       "  tol=0.001, verbose=False)"
      ]
     },
     "execution_count": 18,
     "metadata": {},
     "output_type": "execute_result"
    }
   ],
   "source": [
    "# Support vector machine linear classifier\n",
    "from sklearn.svm import SVC \n",
    "model3 = SVC(kernel='rbf', gamma=2)\n",
    "model3.fit(X_train_scaled, y_train)"
   ]
  },
  {
   "cell_type": "code",
   "execution_count": 19,
   "metadata": {},
   "outputs": [
    {
     "name": "stdout",
     "output_type": "stream",
     "text": [
      "Training Data Score: 0.8659652333028363\n",
      "Testing Data Score: 0.8604757548032936\n"
     ]
    }
   ],
   "source": [
    "print(f\"Training Data Score: {model3.score(X_train_scaled, y_train)}\")\n",
    "print(f\"Testing Data Score: {model3.score(X_test_scaled, y_test)}\")"
   ]
  },
  {
   "cell_type": "code",
   "execution_count": 20,
   "metadata": {},
   "outputs": [],
   "source": [
    "# Create the GridSearchCV model\n",
    "from sklearn.model_selection import GridSearchCV\n",
    "param_grid = {'C': [5, 10, 25, 50],\n",
    "              'gamma': [0.0001, 0.0005, 0.001, 0.005]}\n",
    "grid = GridSearchCV(model3, param_grid, verbose=3)"
   ]
  },
  {
   "cell_type": "code",
   "execution_count": 21,
   "metadata": {},
   "outputs": [
    {
     "name": "stdout",
     "output_type": "stream",
     "text": [
      "Fitting 3 folds for each of 16 candidates, totalling 48 fits\n",
      "[CV] C=5, gamma=0.0001 ...............................................\n"
     ]
    },
    {
     "name": "stderr",
     "output_type": "stream",
     "text": [
      "C:\\Users\\dkloe\\Anaconda3\\envs\\PythonWebMongo\\lib\\site-packages\\sklearn\\model_selection\\_split.py:2053: FutureWarning: You should specify a value for 'cv' instead of relying on the default value. The default value will change from 3 to 5 in version 0.22.\n",
      "  warnings.warn(CV_WARNING, FutureWarning)\n",
      "[Parallel(n_jobs=1)]: Using backend SequentialBackend with 1 concurrent workers.\n"
     ]
    },
    {
     "name": "stdout",
     "output_type": "stream",
     "text": [
      "[CV] ...... C=5, gamma=0.0001, score=0.4983996342021033, total=   2.5s\n",
      "[CV] C=5, gamma=0.0001 ...............................................\n"
     ]
    },
    {
     "name": "stderr",
     "output_type": "stream",
     "text": [
      "[Parallel(n_jobs=1)]: Done   1 out of   1 | elapsed:    3.6s remaining:    0.0s\n"
     ]
    },
    {
     "name": "stdout",
     "output_type": "stream",
     "text": [
      "[CV] ..... C=5, gamma=0.0001, score=0.49817017383348583, total=   2.4s\n",
      "[CV] C=5, gamma=0.0001 ...............................................\n"
     ]
    },
    {
     "name": "stderr",
     "output_type": "stream",
     "text": [
      "[Parallel(n_jobs=1)]: Done   2 out of   2 | elapsed:    7.3s remaining:    0.0s\n"
     ]
    },
    {
     "name": "stdout",
     "output_type": "stream",
     "text": [
      "[CV] ...... C=5, gamma=0.0001, score=0.4983981693363844, total=   2.4s\n",
      "[CV] C=5, gamma=0.0005 ...............................................\n",
      "[CV] ....... C=5, gamma=0.0005, score=0.735711019661637, total=   2.3s\n",
      "[CV] C=5, gamma=0.0005 ...............................................\n",
      "[CV] ...... C=5, gamma=0.0005, score=0.7378774016468436, total=   2.3s\n",
      "[CV] C=5, gamma=0.0005 ...............................................\n",
      "[CV] ...... C=5, gamma=0.0005, score=0.7395881006864988, total=   2.4s\n",
      "[CV] C=5, gamma=0.001 ................................................\n",
      "[CV] ........ C=5, gamma=0.001, score=0.735711019661637, total=   1.8s\n",
      "[CV] C=5, gamma=0.001 ................................................\n",
      "[CV] ....... C=5, gamma=0.001, score=0.7378774016468436, total=   1.8s\n",
      "[CV] C=5, gamma=0.001 ................................................\n",
      "[CV] ....... C=5, gamma=0.001, score=0.7395881006864988, total=   1.9s\n",
      "[CV] C=5, gamma=0.005 ................................................\n",
      "[CV] ....... C=5, gamma=0.005, score=0.7914951989026063, total=   1.2s\n",
      "[CV] C=5, gamma=0.005 ................................................\n",
      "[CV] ....... C=5, gamma=0.005, score=0.7918572735590119, total=   1.2s\n",
      "[CV] C=5, gamma=0.005 ................................................\n",
      "[CV] ....... C=5, gamma=0.005, score=0.7899313501144165, total=   1.2s\n",
      "[CV] C=10, gamma=0.0001 ..............................................\n",
      "[CV] ..... C=10, gamma=0.0001, score=0.4983996342021033, total=   2.5s\n",
      "[CV] C=10, gamma=0.0001 ..............................................\n",
      "[CV] .... C=10, gamma=0.0001, score=0.49817017383348583, total=   2.4s\n",
      "[CV] C=10, gamma=0.0001 ..............................................\n",
      "[CV] ..... C=10, gamma=0.0001, score=0.4983981693363844, total=   2.5s\n",
      "[CV] C=10, gamma=0.0005 ..............................................\n",
      "[CV] ...... C=10, gamma=0.0005, score=0.735711019661637, total=   1.8s\n",
      "[CV] C=10, gamma=0.0005 ..............................................\n",
      "[CV] ..... C=10, gamma=0.0005, score=0.7378774016468436, total=   1.8s\n",
      "[CV] C=10, gamma=0.0005 ..............................................\n",
      "[CV] ..... C=10, gamma=0.0005, score=0.7395881006864988, total=   1.8s\n",
      "[CV] C=10, gamma=0.001 ...............................................\n",
      "[CV] ...... C=10, gamma=0.001, score=0.7713763145861912, total=   1.4s\n",
      "[CV] C=10, gamma=0.001 ...............................................\n",
      "[CV] ...... C=10, gamma=0.001, score=0.7685269899359561, total=   1.4s\n",
      "[CV] C=10, gamma=0.001 ...............................................\n",
      "[CV] ...... C=10, gamma=0.001, score=0.7702517162471396, total=   1.4s\n",
      "[CV] C=10, gamma=0.005 ...............................................\n",
      "[CV] ...... C=10, gamma=0.005, score=0.8052126200274349, total=   1.1s\n",
      "[CV] C=10, gamma=0.005 ...............................................\n",
      "[CV] ...... C=10, gamma=0.005, score=0.8170173833485819, total=   1.1s\n",
      "[CV] C=10, gamma=0.005 ...............................................\n",
      "[CV] ...... C=10, gamma=0.005, score=0.8096109839816934, total=   1.1s\n",
      "[CV] C=25, gamma=0.0001 ..............................................\n",
      "[CV] ...... C=25, gamma=0.0001, score=0.735711019661637, total=   2.4s\n",
      "[CV] C=25, gamma=0.0001 ..............................................\n",
      "[CV] ..... C=25, gamma=0.0001, score=0.7378774016468436, total=   2.3s\n",
      "[CV] C=25, gamma=0.0001 ..............................................\n",
      "[CV] ..... C=25, gamma=0.0001, score=0.7395881006864988, total=   2.3s\n",
      "[CV] C=25, gamma=0.0005 ..............................................\n",
      "[CV] ..... C=25, gamma=0.0005, score=0.7754915409236397, total=   1.3s\n",
      "[CV] C=25, gamma=0.0005 ..............................................\n",
      "[CV] ..... C=25, gamma=0.0005, score=0.7758462946020128, total=   1.3s\n",
      "[CV] C=25, gamma=0.0005 ..............................................\n",
      "[CV] ..... C=25, gamma=0.0005, score=0.7748283752860412, total=   1.3s\n",
      "[CV] C=25, gamma=0.001 ...............................................\n",
      "[CV] ...... C=25, gamma=0.001, score=0.7914951989026063, total=   1.2s\n",
      "[CV] C=25, gamma=0.001 ...............................................\n",
      "[CV] ...... C=25, gamma=0.001, score=0.7918572735590119, total=   1.2s\n",
      "[CV] C=25, gamma=0.001 ...............................................\n",
      "[CV] ...... C=25, gamma=0.001, score=0.7899313501144165, total=   1.2s\n",
      "[CV] C=25, gamma=0.005 ...............................................\n",
      "[CV] ...... C=25, gamma=0.005, score=0.8235025148605396, total=   1.0s\n",
      "[CV] C=25, gamma=0.005 ...............................................\n",
      "[CV] ...... C=25, gamma=0.005, score=0.8289112534309241, total=   1.0s\n",
      "[CV] C=25, gamma=0.005 ...............................................\n",
      "[CV] ...... C=25, gamma=0.005, score=0.8233409610983982, total=   1.0s\n",
      "[CV] C=50, gamma=0.0001 ..............................................\n",
      "[CV] ...... C=50, gamma=0.0001, score=0.735711019661637, total=   1.8s\n",
      "[CV] C=50, gamma=0.0001 ..............................................\n",
      "[CV] ..... C=50, gamma=0.0001, score=0.7378774016468436, total=   1.8s\n",
      "[CV] C=50, gamma=0.0001 ..............................................\n",
      "[CV] ..... C=50, gamma=0.0001, score=0.7395881006864988, total=   1.8s\n",
      "[CV] C=50, gamma=0.0005 ..............................................\n",
      "[CV] ..... C=50, gamma=0.0005, score=0.7914951989026063, total=   1.1s\n",
      "[CV] C=50, gamma=0.0005 ..............................................\n",
      "[CV] ..... C=50, gamma=0.0005, score=0.7918572735590119, total=   1.2s\n",
      "[CV] C=50, gamma=0.0005 ..............................................\n",
      "[CV] ..... C=50, gamma=0.0005, score=0.7899313501144165, total=   1.1s\n",
      "[CV] C=50, gamma=0.001 ...............................................\n",
      "[CV] ...... C=50, gamma=0.001, score=0.8047553726566072, total=   1.0s\n",
      "[CV] C=50, gamma=0.001 ...............................................\n",
      "[CV] ...... C=50, gamma=0.001, score=0.8170173833485819, total=   1.1s\n",
      "[CV] C=50, gamma=0.001 ...............................................\n",
      "[CV] ...... C=50, gamma=0.001, score=0.8096109839816934, total=   1.1s\n",
      "[CV] C=50, gamma=0.005 ...............................................\n",
      "[CV] ...... C=50, gamma=0.005, score=0.8308184727937814, total=   0.9s\n",
      "[CV] C=50, gamma=0.005 ...............................................\n",
      "[CV] ...... C=50, gamma=0.005, score=0.8366880146386093, total=   0.9s\n",
      "[CV] C=50, gamma=0.005 ...............................................\n",
      "[CV] ...... C=50, gamma=0.005, score=0.8270022883295195, total=   0.9s\n"
     ]
    },
    {
     "name": "stderr",
     "output_type": "stream",
     "text": [
      "[Parallel(n_jobs=1)]: Done  48 out of  48 | elapsed:  2.1min finished\n"
     ]
    },
    {
     "data": {
      "text/plain": [
       "GridSearchCV(cv='warn', error_score='raise-deprecating',\n",
       "       estimator=SVC(C=1.0, cache_size=200, class_weight=None, coef0=0.0,\n",
       "  decision_function_shape='ovr', degree=3, gamma=2, kernel='rbf',\n",
       "  max_iter=-1, probability=False, random_state=None, shrinking=True,\n",
       "  tol=0.001, verbose=False),\n",
       "       fit_params=None, iid='warn', n_jobs=None,\n",
       "       param_grid={'C': [5, 10, 25, 50], 'gamma': [0.0001, 0.0005, 0.001, 0.005]},\n",
       "       pre_dispatch='2*n_jobs', refit=True, return_train_score='warn',\n",
       "       scoring=None, verbose=3)"
      ]
     },
     "execution_count": 21,
     "metadata": {},
     "output_type": "execute_result"
    }
   ],
   "source": [
    "# Train the model with GridSearch\n",
    "grid.fit(X_train_scaled, y_train)"
   ]
  },
  {
   "cell_type": "code",
   "execution_count": 22,
   "metadata": {},
   "outputs": [
    {
     "name": "stdout",
     "output_type": "stream",
     "text": [
      "{'C': 50, 'gamma': 0.005}\n",
      "0.8315035071668192\n"
     ]
    }
   ],
   "source": [
    "print(grid.best_params_)\n",
    "print(grid.best_score_)"
   ]
  },
  {
   "cell_type": "markdown",
   "metadata": {},
   "source": [
    "# KNN"
   ]
  },
  {
   "cell_type": "code",
   "execution_count": 24,
   "metadata": {},
   "outputs": [],
   "source": [
    "import matplotlib.pyplot as plt\n",
    "from sklearn.neighbors import KNeighborsClassifier"
   ]
  },
  {
   "cell_type": "code",
   "execution_count": 30,
   "metadata": {},
   "outputs": [
    {
     "name": "stdout",
     "output_type": "stream",
     "text": [
      "k: 1, Train/Test Score: 1.000/0.797\n",
      "k: 3, Train/Test Score: 0.896/0.813\n",
      "k: 5, Train/Test Score: 0.873/0.814\n",
      "k: 7, Train/Test Score: 0.864/0.819\n",
      "k: 9, Train/Test Score: 0.859/0.822\n",
      "k: 11, Train/Test Score: 0.852/0.817\n",
      "k: 13, Train/Test Score: 0.848/0.819\n",
      "k: 15, Train/Test Score: 0.844/0.822\n",
      "k: 17, Train/Test Score: 0.844/0.821\n",
      "k: 19, Train/Test Score: 0.843/0.823\n",
      "k: 21, Train/Test Score: 0.840/0.819\n",
      "k: 23, Train/Test Score: 0.839/0.822\n",
      "k: 25, Train/Test Score: 0.836/0.824\n",
      "k: 27, Train/Test Score: 0.836/0.823\n",
      "k: 29, Train/Test Score: 0.834/0.827\n",
      "k: 31, Train/Test Score: 0.832/0.826\n",
      "k: 33, Train/Test Score: 0.832/0.824\n",
      "k: 35, Train/Test Score: 0.831/0.826\n",
      "k: 37, Train/Test Score: 0.831/0.827\n",
      "k: 39, Train/Test Score: 0.828/0.827\n",
      "k: 41, Train/Test Score: 0.829/0.824\n",
      "k: 43, Train/Test Score: 0.829/0.826\n",
      "k: 45, Train/Test Score: 0.830/0.823\n",
      "k: 47, Train/Test Score: 0.830/0.821\n",
      "k: 49, Train/Test Score: 0.829/0.820\n"
     ]
    },
    {
     "data": {
      "image/png": "[encoded data removed]",
      "text/plain": [
       "<Figure size 432x288 with 1 Axes>"
      ]
     },
     "metadata": {
      "needs_background": "light"
     },
     "output_type": "display_data"
    }
   ],
   "source": [
    "train_scores = []\n",
    "test_scores = []\n",
    "for k in range(1, 50, 2):\n",
    "    knn = KNeighborsClassifier(n_neighbors=k)\n",
    "    knn.fit(X_train_scaled, y_train)\n",
    "    train_score = knn.score(X_train_scaled, y_train)\n",
    "    test_score = knn.score(X_test_scaled, y_test)\n",
    "    train_scores.append(train_score)\n",
    "    test_scores.append(test_score)\n",
    "    print(f\"k: {k}, Train/Test Score: {train_score:.3f}/{test_score:.3f}\")\n",
    "    \n",
    "    \n",
    "plt.plot(range(1, 50, 2), train_scores, marker='o')\n",
    "plt.plot(range(1, 50, 2), test_scores, marker=\"x\")\n",
    "plt.xlabel(\"k neighbors\")\n",
    "plt.ylabel(\"Testing accuracy Score\")\n",
    "plt.show()"
   ]
  },
  {
   "cell_type": "code",
   "execution_count": 32,
   "metadata": {},
   "outputs": [
    {
     "name": "stdout",
     "output_type": "stream",
     "text": [
      "k=39 Test Acc: 0.827\n"
     ]
    }
   ],
   "source": [
    "knn = KNeighborsClassifier(n_neighbors=39)\n",
    "model4 = knn.fit(X_train_scaled, y_train)\n",
    "print('k=39 Test Acc: %.3f' % knn.score(X_test_scaled, y_test))"
   ]
  },
  {
   "cell_type": "code",
   "execution_count": 33,
   "metadata": {},
   "outputs": [],
   "source": []
  },
  {
   "cell_type": "code",
   "execution_count": null,
   "metadata": {},
   "outputs": [],
   "source": []
  },
  {
   "cell_type": "code",
   "execution_count": null,
   "metadata": {},
   "outputs": [],
   "source": []
  }
 ],
 "metadata": {
  "kernel_info": {
   "name": "dev"
  },
  "kernelspec": {
   "display_name": "Python 3",
   "language": "python",
   "name": "python3"
  },
  "language_info": {
   "codemirror_mode": {
    "name": "ipython",
    "version": 3
   },
   "file_extension": ".py",
   "mimetype": "text/x-python",
   "name": "python",
   "nbconvert_exporter": "python",
   "pygments_lexer": "ipython3",
   "version": "3.6.8"
  },
  "nteract": {
   "version": "0.12.3"
  }
 },
 "nbformat": 4,
 "nbformat_minor": 2
}
